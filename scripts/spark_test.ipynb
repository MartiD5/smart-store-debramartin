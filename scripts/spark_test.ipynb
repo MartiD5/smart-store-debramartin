{
 "cells": [
  {
   "cell_type": "code",
   "execution_count": null,
   "id": "0e0e634e",
   "metadata": {
    "vscode": {
     "languageId": "plaintext"
    }
   },
   "outputs": [],
   "source": [
    "{\n",
    " \"cells\": [\n",
    "  {\n",
    "   \"cell_type\": \"code\",\n",
    "   \"execution_count\": 3,\n",
    "   \"id\": \"df4bb550\",\n",
    "   \"metadata\": {},\n",
    "   \"outputs\": [\n",
    "    {\n",
    "     \"name\": \"stderr\",\n",
    "     \"output_type\": \"stream\",\n",
    "     \"text\": [\n",
    "      \"{\\\"ts\\\":\\\"2025-04-11T19:00:38.324Z\\\",\\\"level\\\":\\\"INFO\\\",\\\"msg\\\":\\\"Setting hive.metastore.warehouse.dir ('null') to the value of spark.sql.warehouse.dir.\\\",\\\"logger\\\":\\\"SharedState\\\"}\\n\",\n",
    "      \"{\\\"ts\\\":\\\"2025-04-11T19:00:38.330Z\\\",\\\"level\\\":\\\"INFO\\\",\\\"msg\\\":\\\"Warehouse path is 'file:/Users/silvertiger/Projects/smart-store-drew-schaffner/scripts/spark-warehouse'.\\\",\\\"logger\\\":\\\"SharedState\\\"}\\n\"\n",
    "     ]\n",
    "    },\n",
    "    {\n",
    "     \"name\": \"stdout\",\n",
    "     \"output_type\": \"stream\",\n",
    "     \"text\": [\n",
    "      \"<pyspark.sql.session.SparkSession object at 0x10afd86e0>\\n\"\n",
    "     ]\n",
    "    }\n",
    "   ],\n",
    "   \"source\": [\n",
    "    \"# Verify Spark works\\n\",\n",
    "    \"from pyspark.sql import SparkSession\\n\",\n",
    "    \"\\n\",\n",
    "    \"spark = SparkSession.builder \\\\\\n\",\n",
    "    \"    .appName(\\\"SmartSales\\\") \\\\\\n\",\n",
    "    \"    .getOrCreate()\\n\",\n",
    "    \"\\n\",\n",
    "    \"print(spark)\"\n",
    "   ]\n",
    "  }\n",
    " ],\n",
    " \"metadata\": {\n",
    "  \"kernelspec\": {\n",
    "   \"display_name\": \".venv\",\n",
    "   \"language\": \"python\",\n",
    "   \"name\": \"python3\"\n",
    "  },\n",
    "  \"language_info\": {\n",
    "   \"codemirror_mode\": {\n",
    "    \"name\": \"ipython\",\n",
    "    \"version\": 3\n",
    "   },\n",
    "   \"file_extension\": \".py\",\n",
    "   \"mimetype\": \"text/x-python\",\n",
    "   \"name\": \"python\",\n",
    "   \"nbconvert_exporter\": \"python\",\n",
    "   \"pygments_lexer\": \"ipython3\",\n",
    "   \"version\": \"3.13.2\"\n",
    "  }\n",
    " },\n",
    " \"nbformat\": 4,\n",
    " \"nbformat_minor\": 5\n",
    "}"
   ]
  }
 ],
 "metadata": {
  "language_info": {
   "name": "python"
  }
 },
 "nbformat": 4,
 "nbformat_minor": 5
}
